{
 "cells": [
  {
   "cell_type": "code",
   "execution_count": 1,
   "metadata": {},
   "outputs": [],
   "source": [
    "import findspark\n",
    "findspark.init()\n",
    "\n",
    "from pyspark import SparkContext\n",
    "from pyspark.sql import SparkSession \n",
    "\n",
    "sc = SparkContext()\n",
    "spark = SparkSession.builder.appName(\"HW4-1\").getOrCreate()"
   ]
  },
  {
   "cell_type": "code",
   "execution_count": 2,
   "metadata": {},
   "outputs": [],
   "source": [
    "spotify = spark.read.format(\"csv\").option(\"header\", \"true\").load(\"s3://502-mountain-dew-spotify/training_set/log_0_20180715_000000000000.csv\")"
   ]
  },
  {
   "cell_type": "code",
   "execution_count": 3,
   "metadata": {},
   "outputs": [],
   "source": [
    "feature = spark.read.format(\"csv\").option(\"header\", \"true\").load(\"s3://502-mountain-dew-spotify/track_features\")"
   ]
  },
  {
   "cell_type": "markdown",
   "metadata": {},
   "source": [
    "## Merge Data"
   ]
  },
  {
   "cell_type": "code",
   "execution_count": 4,
   "metadata": {},
   "outputs": [
    {
     "name": "stdout",
     "output_type": "stream",
     "text": [
      "root\n",
      " |-- session_id: string (nullable = true)\n",
      " |-- session_position: string (nullable = true)\n",
      " |-- session_length: string (nullable = true)\n",
      " |-- track_id_clean: string (nullable = true)\n",
      " |-- skip_1: string (nullable = true)\n",
      " |-- skip_2: string (nullable = true)\n",
      " |-- skip_3: string (nullable = true)\n",
      " |-- not_skipped: string (nullable = true)\n",
      " |-- context_switch: string (nullable = true)\n",
      " |-- no_pause_before_play: string (nullable = true)\n",
      " |-- short_pause_before_play: string (nullable = true)\n",
      " |-- long_pause_before_play: string (nullable = true)\n",
      " |-- hist_user_behavior_n_seekfwd: string (nullable = true)\n",
      " |-- hist_user_behavior_n_seekback: string (nullable = true)\n",
      " |-- hist_user_behavior_is_shuffle: string (nullable = true)\n",
      " |-- hour_of_day: string (nullable = true)\n",
      " |-- date: string (nullable = true)\n",
      " |-- premium: string (nullable = true)\n",
      " |-- context_type: string (nullable = true)\n",
      " |-- hist_user_behavior_reason_start: string (nullable = true)\n",
      " |-- hist_user_behavior_reason_end: string (nullable = true)\n",
      " |-- track_id: string (nullable = true)\n",
      " |-- duration: string (nullable = true)\n",
      " |-- release_year: string (nullable = true)\n",
      " |-- us_popularity_estimate: string (nullable = true)\n",
      " |-- acousticness: string (nullable = true)\n",
      " |-- beat_strength: string (nullable = true)\n",
      " |-- bounciness: string (nullable = true)\n",
      " |-- danceability: string (nullable = true)\n",
      " |-- dyn_range_mean: string (nullable = true)\n",
      " |-- energy: string (nullable = true)\n",
      " |-- flatness: string (nullable = true)\n",
      " |-- instrumentalness: string (nullable = true)\n",
      " |-- key: string (nullable = true)\n",
      " |-- liveness: string (nullable = true)\n",
      " |-- loudness: string (nullable = true)\n",
      " |-- mechanism: string (nullable = true)\n",
      " |-- mode: string (nullable = true)\n",
      " |-- organism: string (nullable = true)\n",
      " |-- speechiness: string (nullable = true)\n",
      " |-- tempo: string (nullable = true)\n",
      " |-- time_signature: string (nullable = true)\n",
      " |-- valence: string (nullable = true)\n",
      " |-- acoustic_vector_0: string (nullable = true)\n",
      " |-- acoustic_vector_1: string (nullable = true)\n",
      " |-- acoustic_vector_2: string (nullable = true)\n",
      " |-- acoustic_vector_3: string (nullable = true)\n",
      " |-- acoustic_vector_4: string (nullable = true)\n",
      " |-- acoustic_vector_5: string (nullable = true)\n",
      " |-- acoustic_vector_6: string (nullable = true)\n",
      " |-- acoustic_vector_7: string (nullable = true)\n",
      "\n"
     ]
    }
   ],
   "source": [
    "df = spotify.join(feature, spotify.track_id_clean == feature.track_id , \"inner\")\n",
    "df.printSchema()"
   ]
  },
  {
   "cell_type": "code",
   "execution_count": 6,
   "metadata": {},
   "outputs": [
    {
     "data": {
      "text/plain": [
       "2990609"
      ]
     },
     "execution_count": 6,
     "metadata": {},
     "output_type": "execute_result"
    }
   ],
   "source": [
    "df.count()"
   ]
  },
  {
   "cell_type": "code",
   "execution_count": 5,
   "metadata": {},
   "outputs": [
    {
     "data": {
      "text/plain": [
       "DataFrame[session_id: string, session_position: string, session_length: string, track_id_clean: string, skip_1: string, skip_2: string, skip_3: string, not_skipped: string, context_switch: string, no_pause_before_play: string, short_pause_before_play: string, long_pause_before_play: string, hist_user_behavior_n_seekfwd: string, hist_user_behavior_n_seekback: string, hist_user_behavior_is_shuffle: string, hour_of_day: string, date: string, premium: string, context_type: string, hist_user_behavior_reason_start: string, hist_user_behavior_reason_end: string, track_id: string, duration: string, release_year: string, us_popularity_estimate: string, acousticness: string, beat_strength: string, bounciness: string, danceability: string, dyn_range_mean: string, energy: string, flatness: string, instrumentalness: string, key: string, liveness: string, loudness: string, mechanism: string, mode: string, organism: string, speechiness: string, tempo: string, time_signature: string, valence: string, acoustic_vector_0: string, acoustic_vector_1: string, acoustic_vector_2: string, acoustic_vector_3: string, acoustic_vector_4: string, acoustic_vector_5: string, acoustic_vector_6: string, acoustic_vector_7: string]"
      ]
     },
     "execution_count": 5,
     "metadata": {},
     "output_type": "execute_result"
    }
   ],
   "source": [
    "df.na.drop()"
   ]
  },
  {
   "cell_type": "code",
   "execution_count": 6,
   "metadata": {},
   "outputs": [
    {
     "data": {
      "text/plain": [
       "DataFrame[session_id: string, session_position: string, session_length: string, track_id_clean: string, skip_1: string, skip_2: string, skip_3: string, not_skipped: string, context_switch: string, no_pause_before_play: string, short_pause_before_play: string, long_pause_before_play: string, hist_user_behavior_n_seekfwd: string, hist_user_behavior_n_seekback: string, hist_user_behavior_is_shuffle: string, hour_of_day: string, date: string, premium: string, context_type: string, hist_user_behavior_reason_start: string, hist_user_behavior_reason_end: string, track_id: string, duration: string, release_year: string, us_popularity_estimate: string, acousticness: string, beat_strength: string, bounciness: string, danceability: string, dyn_range_mean: string, energy: string, flatness: string, instrumentalness: string, key: string, liveness: string, loudness: string, mechanism: string, mode: string, organism: string, speechiness: string, tempo: string, time_signature: string, valence: string, acoustic_vector_0: string, acoustic_vector_1: string, acoustic_vector_2: string, acoustic_vector_3: string, acoustic_vector_4: string, acoustic_vector_5: string, acoustic_vector_6: string, acoustic_vector_7: string]"
      ]
     },
     "execution_count": 6,
     "metadata": {},
     "output_type": "execute_result"
    }
   ],
   "source": [
    "df.cache()"
   ]
  },
  {
   "cell_type": "markdown",
   "metadata": {},
   "source": [
    "## Change Data Type"
   ]
  },
  {
   "cell_type": "code",
   "execution_count": 7,
   "metadata": {},
   "outputs": [
    {
     "name": "stdout",
     "output_type": "stream",
     "text": [
      "root\n",
      " |-- session_id: string (nullable = true)\n",
      " |-- session_position: string (nullable = true)\n",
      " |-- session_length: string (nullable = true)\n",
      " |-- track_id_clean: string (nullable = true)\n",
      " |-- skip_1: string (nullable = true)\n",
      " |-- skip_2: string (nullable = true)\n",
      " |-- skip_3: string (nullable = true)\n",
      " |-- not_skipped: string (nullable = true)\n",
      " |-- context_switch: string (nullable = true)\n",
      " |-- no_pause_before_play: string (nullable = true)\n",
      " |-- short_pause_before_play: string (nullable = true)\n",
      " |-- long_pause_before_play: string (nullable = true)\n",
      " |-- hist_user_behavior_n_seekfwd: string (nullable = true)\n",
      " |-- hist_user_behavior_n_seekback: string (nullable = true)\n",
      " |-- hist_user_behavior_is_shuffle: string (nullable = true)\n",
      " |-- hour_of_day: string (nullable = true)\n",
      " |-- date: string (nullable = true)\n",
      " |-- premium: string (nullable = true)\n",
      " |-- context_type: string (nullable = true)\n",
      " |-- hist_user_behavior_reason_start: string (nullable = true)\n",
      " |-- hist_user_behavior_reason_end: string (nullable = true)\n",
      "\n"
     ]
    }
   ],
   "source": [
    "spotify.printSchema()"
   ]
  },
  {
   "cell_type": "code",
   "execution_count": 8,
   "metadata": {},
   "outputs": [
    {
     "name": "stdout",
     "output_type": "stream",
     "text": [
      "+--------------------+--------------------+------+------+------+-----------+--------------+--------------------+-----------------------+----------------------+-----------------------------+-------+\n",
      "|          session_id|      track_id_clean|skip_1|skip_2|skip_3|not_skipped|context_switch|no_pause_before_play|short_pause_before_play|long_pause_before_play|hist_user_behavior_n_seekback|premium|\n",
      "+--------------------+--------------------+------+------+------+-----------+--------------+--------------------+-----------------------+----------------------+-----------------------------+-------+\n",
      "|0_00006f66-33e5-4...|t_0479f24c-27d2-4...| false| false| false|       true|             0|                   0|                      0|                     0|                            0|   true|\n",
      "+--------------------+--------------------+------+------+------+-----------+--------------+--------------------+-----------------------+----------------------+-----------------------------+-------+\n",
      "only showing top 1 row\n",
      "\n"
     ]
    }
   ],
   "source": [
    "columns_to_drop = [\"hist_user_behavior_reason_start\", \"hist_user_behavior_reason_end\", \"context_type\", \"date\"\n",
    "                  ,\"hour_of_day\", \"hist_user_behavior_is_shuffle\", \"hist_user_behavior_n_seekfwd\", \"session_length\",\"session_position\"]\n",
    "df_drop = spotify.drop(*columns_to_drop)\n",
    "df_drop.show(1)"
   ]
  },
  {
   "cell_type": "code",
   "execution_count": 9,
   "metadata": {},
   "outputs": [
    {
     "name": "stdout",
     "output_type": "stream",
     "text": [
      "root\n",
      " |-- session_id: string (nullable = true)\n",
      " |-- track_id_clean: string (nullable = true)\n",
      " |-- skip_1: boolean (nullable = true)\n",
      " |-- skip_2: boolean (nullable = true)\n",
      " |-- skip_3: boolean (nullable = true)\n",
      " |-- not_skipped: boolean (nullable = true)\n",
      " |-- context_switch: boolean (nullable = true)\n",
      " |-- no_pause_before_play: boolean (nullable = true)\n",
      " |-- short_pause_before_play: boolean (nullable = true)\n",
      " |-- long_pause_before_play: boolean (nullable = true)\n",
      " |-- hist_user_behavior_n_seekback: integer (nullable = true)\n",
      " |-- premium: boolean (nullable = true)\n",
      "\n"
     ]
    }
   ],
   "source": [
    "from pyspark.sql.types import *\n",
    "\n",
    "for c in [\"skip_1\", \"skip_2\", \"skip_3\", \"not_skipped\", \"context_switch\", \"no_pause_before_play\",\n",
    "         \"short_pause_before_play\", \"long_pause_before_play\", \"premium\"]:\n",
    "    df_drop = df_drop.withColumn(c, df_drop[c].cast(BooleanType()))\n",
    "for c in [\"hist_user_behavior_n_seekback\"]:\n",
    "    df_drop = df_drop.withColumn(c, df_drop[c].cast(IntegerType()))  \n",
    "    \n",
    "df_drop.printSchema()"
   ]
  },
  {
   "cell_type": "markdown",
   "metadata": {},
   "source": [
    "## Rating"
   ]
  },
  {
   "cell_type": "code",
   "execution_count": 10,
   "metadata": {},
   "outputs": [
    {
     "name": "stdout",
     "output_type": "stream",
     "text": [
      "+--------------------+--------------------+------+------+------+-----------+--------------+--------------------+-----------------------+----------------------+-----------------------------+-------+\n",
      "|          session_id|      track_id_clean|skip_1|skip_2|skip_3|not_skipped|context_switch|no_pause_before_play|short_pause_before_play|long_pause_before_play|hist_user_behavior_n_seekback|premium|\n",
      "+--------------------+--------------------+------+------+------+-----------+--------------+--------------------+-----------------------+----------------------+-----------------------------+-------+\n",
      "|0_00006f66-33e5-4...|t_0479f24c-27d2-4...| false| false| false|       true|         false|               false|                  false|                 false|                            0|   true|\n",
      "+--------------------+--------------------+------+------+------+-----------+--------------+--------------------+-----------------------+----------------------+-----------------------------+-------+\n",
      "only showing top 1 row\n",
      "\n"
     ]
    }
   ],
   "source": [
    "df_drop.show(1)"
   ]
  },
  {
   "cell_type": "code",
   "execution_count": 11,
   "metadata": {},
   "outputs": [
    {
     "name": "stdout",
     "output_type": "stream",
     "text": [
      "+--------------------+--------------------+------+------+------+-----------+--------------+-----------------------------+-------+---------+\n",
      "|          session_id|      track_id_clean|skip_1|skip_2|skip_3|not_skipped|context_switch|hist_user_behavior_n_seekback|premium|Not_Pause|\n",
      "+--------------------+--------------------+------+------+------+-----------+--------------+-----------------------------+-------+---------+\n",
      "|0_00006f66-33e5-4...|t_0479f24c-27d2-4...| false| false| false|       true|         false|                            0|   true|        1|\n",
      "+--------------------+--------------------+------+------+------+-----------+--------------+-----------------------------+-------+---------+\n",
      "only showing top 1 row\n",
      "\n",
      "root\n",
      " |-- session_id: string (nullable = true)\n",
      " |-- track_id_clean: string (nullable = true)\n",
      " |-- skip_1: boolean (nullable = true)\n",
      " |-- skip_2: boolean (nullable = true)\n",
      " |-- skip_3: boolean (nullable = true)\n",
      " |-- not_skipped: boolean (nullable = true)\n",
      " |-- context_switch: boolean (nullable = true)\n",
      " |-- hist_user_behavior_n_seekback: integer (nullable = true)\n",
      " |-- premium: boolean (nullable = true)\n",
      " |-- Not_Pause: integer (nullable = true)\n",
      "\n"
     ]
    }
   ],
   "source": [
    "from pyspark.sql.functions import col\n",
    "\n",
    "def pause_udf(short_pause, long_pause):\n",
    "    if short_pause or long_pause:\n",
    "        return 0\n",
    "    else:\n",
    "        return 1\n",
    "    \n",
    "pause = spark.udf.register(\"pause\", pause_udf)\n",
    "\n",
    "df1 = df_drop.select(\"session_id\", \"track_id_clean\", \"skip_1\", \"skip_2\", \"skip_3\",\n",
    "                     \"not_skipped\", \"context_switch\", \"hist_user_behavior_n_seekback\",\n",
    "                     \"premium\", pause(col(\"short_pause_before_play\"), col(\"long_pause_before_play\")).alias(\"Not_Pause\"))\n",
    "df1.show(1)\n",
    "\n",
    "#df_drop1 = df_drop.join(df1, [\"session_id\"] , \"left\")\n",
    "df1 = df1.withColumn(\"Not_Pause\", df1[\"Not_Pause\"].cast(IntegerType()))\n",
    "df1.printSchema()"
   ]
  },
  {
   "cell_type": "code",
   "execution_count": 12,
   "metadata": {},
   "outputs": [
    {
     "name": "stdout",
     "output_type": "stream",
     "text": [
      "+--------------------+--------------+--------------------+-----------------------------+-----------+\n",
      "|          session_id|context_switch|      track_id_clean|hist_user_behavior_n_seekback|Skip_Rating|\n",
      "+--------------------+--------------+--------------------+-----------------------------+-----------+\n",
      "|0_00006f66-33e5-4...|         false|t_0479f24c-27d2-4...|                            0|          6|\n",
      "|0_00006f66-33e5-4...|         false|t_9099cd7b-c238-4...|                            0|          6|\n",
      "|0_00006f66-33e5-4...|         false|t_fc5df5ba-5396-4...|                            0|          6|\n",
      "|0_00006f66-33e5-4...|         false|t_23cff8d6-d874-4...|                            0|          6|\n",
      "|0_00006f66-33e5-4...|         false|t_64f3743c-f624-4...|                            0|          6|\n",
      "+--------------------+--------------+--------------------+-----------------------------+-----------+\n",
      "only showing top 5 rows\n",
      "\n"
     ]
    }
   ],
   "source": [
    "def skip_rating_udf(premium, skip_1, skip_2, skip_3, not_skip, nopause):\n",
    "    if premium:\n",
    "        if skip_1:\n",
    "            skip1 = 1 - (1 - nopause)\n",
    "        else:\n",
    "            skip1 = 0\n",
    "        if skip_2:\n",
    "            skip2 = 3\n",
    "        else:\n",
    "            skip2 = 0\n",
    "        if skip_3:\n",
    "            skip3 = 5\n",
    "        else:\n",
    "            skip3 = 0\n",
    "        if not_skip:\n",
    "            notskip = 6 + (2 - 2 * nopause)\n",
    "        else:\n",
    "            notskip = 0\n",
    "        return max(skip1, skip2, skip3, notskip)\n",
    "    else:\n",
    "        if skip_1:\n",
    "            skip1 = 0\n",
    "        else:\n",
    "            skip1 = 0\n",
    "        if skip_2:\n",
    "            skip2 = 1\n",
    "        else:\n",
    "            skip2 = 0\n",
    "        if skip_3:\n",
    "            skip3 = 2\n",
    "        else:\n",
    "            skip3 = 0\n",
    "        if not_skip:\n",
    "            notskip = 5 + (1 - 1 * nopause)\n",
    "        else:\n",
    "            notskip = 0\n",
    "        return max(skip1, skip2, skip3, notskip)\n",
    "    \n",
    "skip_rating = spark.udf.register(\"skip_rating\", skip_rating_udf)\n",
    "\n",
    "df2 = df1.select(\"session_id\",\"context_switch\",\"track_id_clean\",\n",
    "                 \"hist_user_behavior_n_seekback\",skip_rating(col(\"premium\"), col(\"skip_1\"), \n",
    "                                                             col(\"skip_2\"), col(\"skip_3\"), col(\"not_skipped\"), \n",
    "                                                             col(\"Not_Pause\")).alias(\"Skip_Rating\"))\n",
    "df2.show(5)\n",
    "\n",
    "#df_drop2 = df_drop1.join(df2, [\"session_id\"] , \"left\")\n",
    "df2 = df2.withColumn(\"Skip_Rating\", df2[\"Skip_Rating\"].cast(IntegerType()))"
   ]
  },
  {
   "cell_type": "code",
   "execution_count": 13,
   "metadata": {},
   "outputs": [
    {
     "name": "stdout",
     "output_type": "stream",
     "text": [
      "+--------------------+--------------------+------------+\n",
      "|          session_id|      track_id_clean|Final_Rating|\n",
      "+--------------------+--------------------+------------+\n",
      "|0_00006f66-33e5-4...|t_0479f24c-27d2-4...|         6.0|\n",
      "|0_00006f66-33e5-4...|t_9099cd7b-c238-4...|         6.0|\n",
      "|0_00006f66-33e5-4...|t_fc5df5ba-5396-4...|         6.0|\n",
      "|0_00006f66-33e5-4...|t_23cff8d6-d874-4...|         6.0|\n",
      "|0_00006f66-33e5-4...|t_64f3743c-f624-4...|         6.0|\n",
      "+--------------------+--------------------+------------+\n",
      "only showing top 5 rows\n",
      "\n"
     ]
    }
   ],
   "source": [
    "def final_rating_udf(Skip_Rating, context_switch, seekback):\n",
    "    if context_switch:\n",
    "        context = 1\n",
    "    else:\n",
    "        context = 0\n",
    "    inside = 1 - (Skip_Rating + 2*context)/10\n",
    "    seekback = seekback + 1\n",
    "    return (1 - pow(inside, (pow(seekback, 1/3)))) * 10\n",
    "\n",
    "final_rating = spark.udf.register(\"final_rating\", final_rating_udf)\n",
    "\n",
    "df3 = df2.select(\"session_id\", \"track_id_clean\",\n",
    "                 final_rating(col(\"Skip_Rating\"), col(\"context_switch\"),\n",
    "                              col(\"hist_user_behavior_n_seekback\")).alias(\"Final_Rating\"))\n",
    "df3.show(5)\n",
    "\n",
    "#df_drop3 = df_drop2.join(df3, [\"session_id\"] , \"left\")\n",
    "df3 = df3.withColumn(\"Final_Rating\", df3[\"Final_Rating\"].cast(IntegerType()))"
   ]
  },
  {
   "cell_type": "code",
   "execution_count": 14,
   "metadata": {},
   "outputs": [
    {
     "name": "stdout",
     "output_type": "stream",
     "text": [
      "+--------------------+--------------------+-------------------+\n",
      "|          session_id|      track_id_clean|Final_Rating_Adjust|\n",
      "+--------------------+--------------------+-------------------+\n",
      "|0_00006f66-33e5-4...|t_0479f24c-27d2-4...|                  7|\n",
      "|0_00006f66-33e5-4...|t_9099cd7b-c238-4...|                  7|\n",
      "|0_00006f66-33e5-4...|t_fc5df5ba-5396-4...|                  7|\n",
      "|0_00006f66-33e5-4...|t_23cff8d6-d874-4...|                  7|\n",
      "|0_00006f66-33e5-4...|t_64f3743c-f624-4...|                  7|\n",
      "+--------------------+--------------------+-------------------+\n",
      "only showing top 5 rows\n",
      "\n"
     ]
    }
   ],
   "source": [
    "def adjust_udf(final):\n",
    "    return final + 1\n",
    "\n",
    "adjust = spark.udf.register(\"adjust\", adjust_udf)\n",
    "\n",
    "df4 = df3.select(\"session_id\", \"track_id_clean\",\n",
    "                 adjust(col(\"Final_Rating\")).alias(\"Final_Rating_Adjust\"))\n",
    "df4.show(5)\n",
    "\n",
    "#df_drop3 = df_drop2.join(df3, [\"session_id\"] , \"left\")\n",
    "df4 = df4.withColumn(\"Final_Rating_Adjust\", df4[\"Final_Rating_Adjust\"].cast(IntegerType()))"
   ]
  },
  {
   "cell_type": "code",
   "execution_count": 28,
   "metadata": {},
   "outputs": [],
   "source": [
    "df4.write.format(\"csv\").option(\"header\",\"true\").mode(\"Overwrite\").save(\"s3://olihw4/spotify_small_version2\")"
   ]
  },
  {
   "cell_type": "markdown",
   "metadata": {},
   "source": [
    "## Distribution "
   ]
  },
  {
   "cell_type": "code",
   "execution_count": 16,
   "metadata": {},
   "outputs": [
    {
     "name": "stdout",
     "output_type": "stream",
     "text": [
      "+-------+-------------------+\n",
      "|summary|Final_Rating_Adjust|\n",
      "+-------+-------------------+\n",
      "|  count|            2990609|\n",
      "|   mean|  5.857774118916916|\n",
      "| stddev| 1.7515590800004013|\n",
      "|    min|                  1|\n",
      "|    max|                 11|\n",
      "+-------+-------------------+\n",
      "\n"
     ]
    }
   ],
   "source": [
    "df4.describe(\"Final_Rating_Adjust\").show()"
   ]
  },
  {
   "cell_type": "code",
   "execution_count": 17,
   "metadata": {},
   "outputs": [
    {
     "name": "stdout",
     "output_type": "stream",
     "text": [
      "+-------------------+-----------------+\n",
      "|Final_Rating_Adjust|count(session_id)|\n",
      "+-------------------+-----------------+\n",
      "|                  1|            49933|\n",
      "|                  6|          1657359|\n",
      "|                  3|            13710|\n",
      "|                  5|            11125|\n",
      "|                  9|           124957|\n",
      "|                  4|              201|\n",
      "|                  8|            68940|\n",
      "|                  7|           709088|\n",
      "|                 10|             2326|\n",
      "|                 11|             6413|\n",
      "|                  2|           346557|\n",
      "+-------------------+-----------------+\n",
      "\n"
     ]
    }
   ],
   "source": [
    "from pyspark.sql.functions import count\n",
    "df4.groupBy(\"Final_Rating_Adjust\").agg(count('session_id')).show()"
   ]
  },
  {
   "cell_type": "markdown",
   "metadata": {},
   "source": [
    "## Encoding"
   ]
  },
  {
   "cell_type": "code",
   "execution_count": 15,
   "metadata": {},
   "outputs": [],
   "source": [
    "from pyspark.ml.evaluation import RegressionEvaluator\n",
    "from pyspark.ml.recommendation import ALS\n",
    "from pyspark.sql import Row\n",
    "from pyspark.ml import Pipeline\n",
    "from pyspark.ml.feature import StringIndexer"
   ]
  },
  {
   "cell_type": "code",
   "execution_count": 16,
   "metadata": {},
   "outputs": [
    {
     "name": "stdout",
     "output_type": "stream",
     "text": [
      "root\n",
      " |-- session_id: string (nullable = true)\n",
      " |-- track_id_clean: string (nullable = true)\n",
      " |-- Final_Rating_Adjust: integer (nullable = true)\n",
      "\n"
     ]
    }
   ],
   "source": [
    "df4.printSchema()"
   ]
  },
  {
   "cell_type": "code",
   "execution_count": 17,
   "metadata": {},
   "outputs": [
    {
     "name": "stdout",
     "output_type": "stream",
     "text": [
      "+--------------------+--------------------+-------------------+----------------+--------------------+\n",
      "|          session_id|      track_id_clean|Final_Rating_Adjust|session_id_index|track_id_clean_index|\n",
      "+--------------------+--------------------+-------------------+----------------+--------------------+\n",
      "|0_00006f66-33e5-4...|t_0479f24c-27d2-4...|                  7|         48432.0|               309.0|\n",
      "|0_00006f66-33e5-4...|t_9099cd7b-c238-4...|                  7|         48432.0|             13791.0|\n",
      "|0_00006f66-33e5-4...|t_fc5df5ba-5396-4...|                  7|         48432.0|                34.0|\n",
      "|0_00006f66-33e5-4...|t_23cff8d6-d874-4...|                  7|         48432.0|               735.0|\n",
      "|0_00006f66-33e5-4...|t_64f3743c-f624-4...|                  7|         48432.0|               100.0|\n",
      "|0_00006f66-33e5-4...|t_c815228b-3212-4...|                  6|         48432.0|               193.0|\n",
      "|0_00006f66-33e5-4...|t_e23c19f5-4c32-4...|                  6|         48432.0|             24614.0|\n",
      "|0_00006f66-33e5-4...|t_0be6eced-f56f-4...|                  6|         48432.0|             41904.0|\n",
      "|0_00006f66-33e5-4...|t_f3ecbd3b-9e8e-4...|                  6|         48432.0|               280.0|\n",
      "|0_00006f66-33e5-4...|t_2af4dfa0-7df3-4...|                  6|         48432.0|              6941.0|\n",
      "|0_00006f66-33e5-4...|t_79570b2a-639a-4...|                  6|         48432.0|               876.0|\n",
      "|0_00006f66-33e5-4...|t_69016f19-84aa-4...|                  6|         48432.0|             17103.0|\n",
      "|0_00006f66-33e5-4...|t_59dc3fcd-7aec-4...|                  6|         48432.0|               668.0|\n",
      "|0_00006f66-33e5-4...|t_a157ba98-7eae-4...|                  7|         48432.0|               225.0|\n",
      "|0_00006f66-33e5-4...|t_87d95b75-af5c-4...|                  6|         48432.0|              8214.0|\n",
      "|0_00006f66-33e5-4...|t_db945033-3dc5-4...|                  6|         48432.0|              1332.0|\n",
      "|0_00006f66-33e5-4...|t_bff5b6c6-6968-4...|                  6|         48432.0|             50950.0|\n",
      "|0_00006f66-33e5-4...|t_bf496d77-9eb2-4...|                  6|         48432.0|               415.0|\n",
      "|0_00006f66-33e5-4...|t_1051bc37-1a73-4...|                  6|         48432.0|               357.0|\n",
      "|0_00006f66-33e5-4...|t_358c9cce-7a1e-4...|                  6|         48432.0|              8829.0|\n",
      "+--------------------+--------------------+-------------------+----------------+--------------------+\n",
      "only showing top 20 rows\n",
      "\n"
     ]
    }
   ],
   "source": [
    "indexers = [StringIndexer(inputCol=column, outputCol=column+\"_index\").fit(df4) \n",
    "            for column in [\"session_id\", \"track_id_clean\"] ]\n",
    "\n",
    "pipeline = Pipeline(stages=indexers)\n",
    "df_index = pipeline.fit(df4).transform(df4)\n",
    "\n",
    "df_index.show()"
   ]
  },
  {
   "cell_type": "code",
   "execution_count": 18,
   "metadata": {},
   "outputs": [],
   "source": [
    "training, test = df_index.randomSplit([0.8, 0.2])"
   ]
  },
  {
   "cell_type": "code",
   "execution_count": 19,
   "metadata": {},
   "outputs": [],
   "source": [
    "# Build the recommendation model using ALS on the training data\n",
    "# Note we set cold start strategy to 'drop' to ensure we don't get NaN evaluation metrics\n",
    "als = ALS(maxIter=5, regParam=0.01, userCol=\"session_id_index\", itemCol=\"track_id_clean_index\", ratingCol=\"Final_Rating_Adjust\",\n",
    "          coldStartStrategy=\"drop\")\n",
    "model = als.fit(training)"
   ]
  },
  {
   "cell_type": "code",
   "execution_count": 20,
   "metadata": {},
   "outputs": [
    {
     "name": "stdout",
     "output_type": "stream",
     "text": [
      "Root-mean-square error = 9.9049345880616\n"
     ]
    }
   ],
   "source": [
    "# Evaluate the model by computing the RMSE on the test data\n",
    "predictions = model.transform(test)\n",
    "evaluator = RegressionEvaluator(metricName=\"rmse\", labelCol=\"Final_Rating_Adjust\",\n",
    "                                predictionCol=\"prediction\")\n",
    "rmse = evaluator.evaluate(predictions)\n",
    "print(\"Root-mean-square error = \" + str(rmse))"
   ]
  },
  {
   "cell_type": "code",
   "execution_count": 21,
   "metadata": {},
   "outputs": [],
   "source": [
    "# Generate top 10 movie recommendations for each user\n",
    "userRecs = model.recommendForAllUsers(10)\n",
    "# Generate top 10 user recommendations for each movie\n",
    "movieRecs = model.recommendForAllItems(10)"
   ]
  },
  {
   "cell_type": "code",
   "execution_count": null,
   "metadata": {},
   "outputs": [],
   "source": [
    "userRecs.select(\"recommendations\").show(10)"
   ]
  },
  {
   "cell_type": "code",
   "execution_count": null,
   "metadata": {},
   "outputs": [],
   "source": [
    "userRecs.printSchema()"
   ]
  },
  {
   "cell_type": "code",
   "execution_count": null,
   "metadata": {},
   "outputs": [],
   "source": [
    "movieRecs.show(5)"
   ]
  },
  {
   "cell_type": "code",
   "execution_count": 23,
   "metadata": {},
   "outputs": [
    {
     "name": "stderr",
     "output_type": "stream",
     "text": [
      "/usr/lib/spark/python/pyspark/sql/dataframe.py:2103: UserWarning: toPandas attempted Arrow optimization because 'spark.sql.execution.arrow.enabled' is set to true; however, failed by the reason below:\n",
      "  Unsupported type in conversion to Arrow: StructType(List(StructField(track_id_clean_index,IntegerType,true),StructField(rating,FloatType,true)))\n",
      "Attempting non-optimization as 'spark.sql.execution.arrow.fallback.enabled' is set to true.\n",
      "  warnings.warn(msg)\n"
     ]
    }
   ],
   "source": [
    "userRecs_df = userRecs.toPandas()"
   ]
  },
  {
   "cell_type": "code",
   "execution_count": 24,
   "metadata": {},
   "outputs": [
    {
     "data": {
      "text/html": [
       "<div>\n",
       "<style scoped>\n",
       "    .dataframe tbody tr th:only-of-type {\n",
       "        vertical-align: middle;\n",
       "    }\n",
       "\n",
       "    .dataframe tbody tr th {\n",
       "        vertical-align: top;\n",
       "    }\n",
       "\n",
       "    .dataframe thead th {\n",
       "        text-align: right;\n",
       "    }\n",
       "</style>\n",
       "<table border=\"1\" class=\"dataframe\">\n",
       "  <thead>\n",
       "    <tr style=\"text-align: right;\">\n",
       "      <th></th>\n",
       "      <th>session_id_index</th>\n",
       "      <th>recommendations</th>\n",
       "    </tr>\n",
       "  </thead>\n",
       "  <tbody>\n",
       "    <tr>\n",
       "      <th>0</th>\n",
       "      <td>148</td>\n",
       "      <td>[(44820, 67.42960357666016), (14685, 62.063751...</td>\n",
       "    </tr>\n",
       "    <tr>\n",
       "      <th>1</th>\n",
       "      <td>463</td>\n",
       "      <td>[(20050, 25.00865936279297), (26693, 22.529197...</td>\n",
       "    </tr>\n",
       "    <tr>\n",
       "      <th>2</th>\n",
       "      <td>471</td>\n",
       "      <td>[(21107, 37.823387145996094), (12125, 35.20796...</td>\n",
       "    </tr>\n",
       "    <tr>\n",
       "      <th>3</th>\n",
       "      <td>496</td>\n",
       "      <td>[(21861, 64.4982681274414), (26027, 63.2762756...</td>\n",
       "    </tr>\n",
       "    <tr>\n",
       "      <th>4</th>\n",
       "      <td>833</td>\n",
       "      <td>[(44544, 25.208986282348633), (43443, 23.80987...</td>\n",
       "    </tr>\n",
       "  </tbody>\n",
       "</table>\n",
       "</div>"
      ],
      "text/plain": [
       "   session_id_index                                    recommendations\n",
       "0               148  [(44820, 67.42960357666016), (14685, 62.063751...\n",
       "1               463  [(20050, 25.00865936279297), (26693, 22.529197...\n",
       "2               471  [(21107, 37.823387145996094), (12125, 35.20796...\n",
       "3               496  [(21861, 64.4982681274414), (26027, 63.2762756...\n",
       "4               833  [(44544, 25.208986282348633), (43443, 23.80987..."
      ]
     },
     "execution_count": 24,
     "metadata": {},
     "output_type": "execute_result"
    }
   ],
   "source": [
    "userRecs_df.head()"
   ]
  },
  {
   "cell_type": "code",
   "execution_count": 25,
   "metadata": {},
   "outputs": [
    {
     "data": {
      "text/plain": [
       "[Row(track_id_clean_index=44820, rating=67.42960357666016),\n",
       " Row(track_id_clean_index=14685, rating=62.063751220703125),\n",
       " Row(track_id_clean_index=28556, rating=61.123661041259766),\n",
       " Row(track_id_clean_index=58553, rating=60.799888610839844),\n",
       " Row(track_id_clean_index=49684, rating=60.146827697753906),\n",
       " Row(track_id_clean_index=44864, rating=59.99911880493164),\n",
       " Row(track_id_clean_index=12181, rating=59.24664306640625),\n",
       " Row(track_id_clean_index=51876, rating=59.19578170776367),\n",
       " Row(track_id_clean_index=19502, rating=59.14078903198242),\n",
       " Row(track_id_clean_index=50763, rating=58.28291702270508)]"
      ]
     },
     "execution_count": 25,
     "metadata": {},
     "output_type": "execute_result"
    }
   ],
   "source": [
    "userRecs_df['recommendations'][0]"
   ]
  },
  {
   "cell_type": "code",
   "execution_count": 30,
   "metadata": {},
   "outputs": [
    {
     "name": "stderr",
     "output_type": "stream",
     "text": [
      "/usr/lib/spark/python/pyspark/sql/dataframe.py:2103: UserWarning: toPandas attempted Arrow optimization because 'spark.sql.execution.arrow.enabled' is set to true; however, failed by the reason below:\n",
      "  Unsupported type in conversion to Arrow: StructType(List(StructField(session_id_index,IntegerType,true),StructField(rating,FloatType,true)))\n",
      "Attempting non-optimization as 'spark.sql.execution.arrow.fallback.enabled' is set to true.\n",
      "  warnings.warn(msg)\n"
     ]
    }
   ],
   "source": [
    "movieRecs_df = movieRecs.toPandas()"
   ]
  },
  {
   "cell_type": "code",
   "execution_count": 31,
   "metadata": {},
   "outputs": [
    {
     "data": {
      "text/html": [
       "<div>\n",
       "<style scoped>\n",
       "    .dataframe tbody tr th:only-of-type {\n",
       "        vertical-align: middle;\n",
       "    }\n",
       "\n",
       "    .dataframe tbody tr th {\n",
       "        vertical-align: top;\n",
       "    }\n",
       "\n",
       "    .dataframe thead th {\n",
       "        text-align: right;\n",
       "    }\n",
       "</style>\n",
       "<table border=\"1\" class=\"dataframe\">\n",
       "  <thead>\n",
       "    <tr style=\"text-align: right;\">\n",
       "      <th></th>\n",
       "      <th>track_id_clean_index</th>\n",
       "      <th>recommendations</th>\n",
       "    </tr>\n",
       "  </thead>\n",
       "  <tbody>\n",
       "    <tr>\n",
       "      <th>0</th>\n",
       "      <td>148</td>\n",
       "      <td>[(108204, 21.75996208190918), (119352, 20.3732...</td>\n",
       "    </tr>\n",
       "    <tr>\n",
       "      <th>1</th>\n",
       "      <td>463</td>\n",
       "      <td>[(51191, 54.46842575073242), (6149, 47.4529151...</td>\n",
       "    </tr>\n",
       "    <tr>\n",
       "      <th>2</th>\n",
       "      <td>471</td>\n",
       "      <td>[(122879, 51.11674118041992), (41636, 39.38167...</td>\n",
       "    </tr>\n",
       "    <tr>\n",
       "      <th>3</th>\n",
       "      <td>496</td>\n",
       "      <td>[(35636, 46.975887298583984), (109145, 44.6432...</td>\n",
       "    </tr>\n",
       "    <tr>\n",
       "      <th>4</th>\n",
       "      <td>833</td>\n",
       "      <td>[(107448, 43.743553161621094), (22702, 42.2848...</td>\n",
       "    </tr>\n",
       "  </tbody>\n",
       "</table>\n",
       "</div>"
      ],
      "text/plain": [
       "   track_id_clean_index                                    recommendations\n",
       "0                   148  [(108204, 21.75996208190918), (119352, 20.3732...\n",
       "1                   463  [(51191, 54.46842575073242), (6149, 47.4529151...\n",
       "2                   471  [(122879, 51.11674118041992), (41636, 39.38167...\n",
       "3                   496  [(35636, 46.975887298583984), (109145, 44.6432...\n",
       "4                   833  [(107448, 43.743553161621094), (22702, 42.2848..."
      ]
     },
     "execution_count": 31,
     "metadata": {},
     "output_type": "execute_result"
    }
   ],
   "source": [
    "movieRecs_df.head()"
   ]
  },
  {
   "cell_type": "code",
   "execution_count": 29,
   "metadata": {},
   "outputs": [],
   "source": [
    "df = df_index.toPandas()"
   ]
  },
  {
   "cell_type": "code",
   "execution_count": 39,
   "metadata": {},
   "outputs": [
    {
     "data": {
      "text/html": [
       "<div>\n",
       "<style scoped>\n",
       "    .dataframe tbody tr th:only-of-type {\n",
       "        vertical-align: middle;\n",
       "    }\n",
       "\n",
       "    .dataframe tbody tr th {\n",
       "        vertical-align: top;\n",
       "    }\n",
       "\n",
       "    .dataframe thead th {\n",
       "        text-align: right;\n",
       "    }\n",
       "</style>\n",
       "<table border=\"1\" class=\"dataframe\">\n",
       "  <thead>\n",
       "    <tr style=\"text-align: right;\">\n",
       "      <th></th>\n",
       "      <th>session_id</th>\n",
       "      <th>track_id_clean</th>\n",
       "      <th>Final_Rating_Adjust</th>\n",
       "      <th>session_id_index</th>\n",
       "      <th>track_id_clean_index</th>\n",
       "    </tr>\n",
       "  </thead>\n",
       "  <tbody>\n",
       "    <tr>\n",
       "      <th>392046</th>\n",
       "      <td>0_21bc60d5-2610-4d03-8885-c2ef5c3f0064</td>\n",
       "      <td>t_166e7788-d0ae-4e85-b748-b3e8af77a84b</td>\n",
       "      <td>9</td>\n",
       "      <td>98628.0</td>\n",
       "      <td>28556.0</td>\n",
       "    </tr>\n",
       "    <tr>\n",
       "      <th>626690</th>\n",
       "      <td>0_35f73791-daa6-461c-90f9-75ec7000d3da</td>\n",
       "      <td>t_166e7788-d0ae-4e85-b748-b3e8af77a84b</td>\n",
       "      <td>9</td>\n",
       "      <td>141712.0</td>\n",
       "      <td>28556.0</td>\n",
       "    </tr>\n",
       "    <tr>\n",
       "      <th>653538</th>\n",
       "      <td>0_38417d93-9966-4578-838b-ed43096d8b30</td>\n",
       "      <td>t_166e7788-d0ae-4e85-b748-b3e8af77a84b</td>\n",
       "      <td>7</td>\n",
       "      <td>18817.0</td>\n",
       "      <td>28556.0</td>\n",
       "    </tr>\n",
       "    <tr>\n",
       "      <th>653555</th>\n",
       "      <td>0_38417d93-9966-4578-838b-ed43096d8b30</td>\n",
       "      <td>t_166e7788-d0ae-4e85-b748-b3e8af77a84b</td>\n",
       "      <td>7</td>\n",
       "      <td>18817.0</td>\n",
       "      <td>28556.0</td>\n",
       "    </tr>\n",
       "    <tr>\n",
       "      <th>983933</th>\n",
       "      <td>0_540be76c-2aca-42e6-b5ef-85b34962a3aa</td>\n",
       "      <td>t_166e7788-d0ae-4e85-b748-b3e8af77a84b</td>\n",
       "      <td>9</td>\n",
       "      <td>82939.0</td>\n",
       "      <td>28556.0</td>\n",
       "    </tr>\n",
       "    <tr>\n",
       "      <th>1446124</th>\n",
       "      <td>0_7bc5a4ec-1ff0-4d58-acea-f3df7e08d018</td>\n",
       "      <td>t_166e7788-d0ae-4e85-b748-b3e8af77a84b</td>\n",
       "      <td>6</td>\n",
       "      <td>60807.0</td>\n",
       "      <td>28556.0</td>\n",
       "    </tr>\n",
       "    <tr>\n",
       "      <th>1902576</th>\n",
       "      <td>0_a2970cb6-c907-4c64-8210-c3590e70a066</td>\n",
       "      <td>t_166e7788-d0ae-4e85-b748-b3e8af77a84b</td>\n",
       "      <td>6</td>\n",
       "      <td>106993.0</td>\n",
       "      <td>28556.0</td>\n",
       "    </tr>\n",
       "    <tr>\n",
       "      <th>1916013</th>\n",
       "      <td>0_a3c495d4-f4f1-4ac4-a770-50dbe52d784b</td>\n",
       "      <td>t_166e7788-d0ae-4e85-b748-b3e8af77a84b</td>\n",
       "      <td>6</td>\n",
       "      <td>50147.0</td>\n",
       "      <td>28556.0</td>\n",
       "    </tr>\n",
       "    <tr>\n",
       "      <th>2841674</th>\n",
       "      <td>0_f3597d7c-b69d-4043-b8cd-a9294df74f48</td>\n",
       "      <td>t_166e7788-d0ae-4e85-b748-b3e8af77a84b</td>\n",
       "      <td>6</td>\n",
       "      <td>99781.0</td>\n",
       "      <td>28556.0</td>\n",
       "    </tr>\n",
       "    <tr>\n",
       "      <th>2916907</th>\n",
       "      <td>0_f9b22333-6e69-4742-bcc4-20b198724cef</td>\n",
       "      <td>t_166e7788-d0ae-4e85-b748-b3e8af77a84b</td>\n",
       "      <td>8</td>\n",
       "      <td>147621.0</td>\n",
       "      <td>28556.0</td>\n",
       "    </tr>\n",
       "    <tr>\n",
       "      <th>2932229</th>\n",
       "      <td>0_faf63cba-a3c2-40d5-b2ac-c4b97a0642b4</td>\n",
       "      <td>t_166e7788-d0ae-4e85-b748-b3e8af77a84b</td>\n",
       "      <td>8</td>\n",
       "      <td>79198.0</td>\n",
       "      <td>28556.0</td>\n",
       "    </tr>\n",
       "  </tbody>\n",
       "</table>\n",
       "</div>"
      ],
      "text/plain": [
       "                                     session_id  \\\n",
       "392046   0_21bc60d5-2610-4d03-8885-c2ef5c3f0064   \n",
       "626690   0_35f73791-daa6-461c-90f9-75ec7000d3da   \n",
       "653538   0_38417d93-9966-4578-838b-ed43096d8b30   \n",
       "653555   0_38417d93-9966-4578-838b-ed43096d8b30   \n",
       "983933   0_540be76c-2aca-42e6-b5ef-85b34962a3aa   \n",
       "1446124  0_7bc5a4ec-1ff0-4d58-acea-f3df7e08d018   \n",
       "1902576  0_a2970cb6-c907-4c64-8210-c3590e70a066   \n",
       "1916013  0_a3c495d4-f4f1-4ac4-a770-50dbe52d784b   \n",
       "2841674  0_f3597d7c-b69d-4043-b8cd-a9294df74f48   \n",
       "2916907  0_f9b22333-6e69-4742-bcc4-20b198724cef   \n",
       "2932229  0_faf63cba-a3c2-40d5-b2ac-c4b97a0642b4   \n",
       "\n",
       "                                 track_id_clean  Final_Rating_Adjust  \\\n",
       "392046   t_166e7788-d0ae-4e85-b748-b3e8af77a84b                    9   \n",
       "626690   t_166e7788-d0ae-4e85-b748-b3e8af77a84b                    9   \n",
       "653538   t_166e7788-d0ae-4e85-b748-b3e8af77a84b                    7   \n",
       "653555   t_166e7788-d0ae-4e85-b748-b3e8af77a84b                    7   \n",
       "983933   t_166e7788-d0ae-4e85-b748-b3e8af77a84b                    9   \n",
       "1446124  t_166e7788-d0ae-4e85-b748-b3e8af77a84b                    6   \n",
       "1902576  t_166e7788-d0ae-4e85-b748-b3e8af77a84b                    6   \n",
       "1916013  t_166e7788-d0ae-4e85-b748-b3e8af77a84b                    6   \n",
       "2841674  t_166e7788-d0ae-4e85-b748-b3e8af77a84b                    6   \n",
       "2916907  t_166e7788-d0ae-4e85-b748-b3e8af77a84b                    8   \n",
       "2932229  t_166e7788-d0ae-4e85-b748-b3e8af77a84b                    8   \n",
       "\n",
       "         session_id_index  track_id_clean_index  \n",
       "392046            98628.0               28556.0  \n",
       "626690           141712.0               28556.0  \n",
       "653538            18817.0               28556.0  \n",
       "653555            18817.0               28556.0  \n",
       "983933            82939.0               28556.0  \n",
       "1446124           60807.0               28556.0  \n",
       "1902576          106993.0               28556.0  \n",
       "1916013           50147.0               28556.0  \n",
       "2841674           99781.0               28556.0  \n",
       "2916907          147621.0               28556.0  \n",
       "2932229           79198.0               28556.0  "
      ]
     },
     "execution_count": 39,
     "metadata": {},
     "output_type": "execute_result"
    }
   ],
   "source": [
    "df[df['track_id_clean_index'] == 28556]"
   ]
  },
  {
   "cell_type": "code",
   "execution_count": 30,
   "metadata": {},
   "outputs": [
    {
     "data": {
      "text/html": [
       "<div>\n",
       "<style scoped>\n",
       "    .dataframe tbody tr th:only-of-type {\n",
       "        vertical-align: middle;\n",
       "    }\n",
       "\n",
       "    .dataframe tbody tr th {\n",
       "        vertical-align: top;\n",
       "    }\n",
       "\n",
       "    .dataframe thead th {\n",
       "        text-align: right;\n",
       "    }\n",
       "</style>\n",
       "<table border=\"1\" class=\"dataframe\">\n",
       "  <thead>\n",
       "    <tr style=\"text-align: right;\">\n",
       "      <th></th>\n",
       "      <th>session_id</th>\n",
       "      <th>track_id_clean</th>\n",
       "      <th>Final_Rating_Adjust</th>\n",
       "      <th>session_id_index</th>\n",
       "      <th>track_id_clean_index</th>\n",
       "    </tr>\n",
       "  </thead>\n",
       "  <tbody>\n",
       "    <tr>\n",
       "      <th>0</th>\n",
       "      <td>0_00006f66-33e5-4de7-a324-2d18e439fc1e</td>\n",
       "      <td>t_0479f24c-27d2-46d6-a00c-7ec928f2b539</td>\n",
       "      <td>7</td>\n",
       "      <td>48432.0</td>\n",
       "      <td>309.0</td>\n",
       "    </tr>\n",
       "    <tr>\n",
       "      <th>1</th>\n",
       "      <td>0_00006f66-33e5-4de7-a324-2d18e439fc1e</td>\n",
       "      <td>t_9099cd7b-c238-47b7-9381-f23f2c1d1043</td>\n",
       "      <td>7</td>\n",
       "      <td>48432.0</td>\n",
       "      <td>13791.0</td>\n",
       "    </tr>\n",
       "    <tr>\n",
       "      <th>2</th>\n",
       "      <td>0_00006f66-33e5-4de7-a324-2d18e439fc1e</td>\n",
       "      <td>t_fc5df5ba-5396-49a7-8b29-35d0d28249e0</td>\n",
       "      <td>7</td>\n",
       "      <td>48432.0</td>\n",
       "      <td>34.0</td>\n",
       "    </tr>\n",
       "    <tr>\n",
       "      <th>3</th>\n",
       "      <td>0_00006f66-33e5-4de7-a324-2d18e439fc1e</td>\n",
       "      <td>t_23cff8d6-d874-4b20-83dc-94e450e8aa20</td>\n",
       "      <td>7</td>\n",
       "      <td>48432.0</td>\n",
       "      <td>735.0</td>\n",
       "    </tr>\n",
       "    <tr>\n",
       "      <th>4</th>\n",
       "      <td>0_00006f66-33e5-4de7-a324-2d18e439fc1e</td>\n",
       "      <td>t_64f3743c-f624-46bb-a579-0f3f9a07a123</td>\n",
       "      <td>7</td>\n",
       "      <td>48432.0</td>\n",
       "      <td>100.0</td>\n",
       "    </tr>\n",
       "  </tbody>\n",
       "</table>\n",
       "</div>"
      ],
      "text/plain": [
       "                               session_id  \\\n",
       "0  0_00006f66-33e5-4de7-a324-2d18e439fc1e   \n",
       "1  0_00006f66-33e5-4de7-a324-2d18e439fc1e   \n",
       "2  0_00006f66-33e5-4de7-a324-2d18e439fc1e   \n",
       "3  0_00006f66-33e5-4de7-a324-2d18e439fc1e   \n",
       "4  0_00006f66-33e5-4de7-a324-2d18e439fc1e   \n",
       "\n",
       "                           track_id_clean  Final_Rating_Adjust  \\\n",
       "0  t_0479f24c-27d2-46d6-a00c-7ec928f2b539                    7   \n",
       "1  t_9099cd7b-c238-47b7-9381-f23f2c1d1043                    7   \n",
       "2  t_fc5df5ba-5396-49a7-8b29-35d0d28249e0                    7   \n",
       "3  t_23cff8d6-d874-4b20-83dc-94e450e8aa20                    7   \n",
       "4  t_64f3743c-f624-46bb-a579-0f3f9a07a123                    7   \n",
       "\n",
       "   session_id_index  track_id_clean_index  \n",
       "0           48432.0                 309.0  \n",
       "1           48432.0               13791.0  \n",
       "2           48432.0                  34.0  \n",
       "3           48432.0                 735.0  \n",
       "4           48432.0                 100.0  "
      ]
     },
     "execution_count": 30,
     "metadata": {},
     "output_type": "execute_result"
    }
   ],
   "source": [
    "df.head()"
   ]
  },
  {
   "cell_type": "code",
   "execution_count": null,
   "metadata": {},
   "outputs": [],
   "source": [
    "0_50ae61e6-eca3-425f-ba4d-66dd0aee7df3"
   ]
  },
  {
   "cell_type": "code",
   "execution_count": 25,
   "metadata": {},
   "outputs": [],
   "source": [
    "df_all = spotify.join(feature, spotify.track_id_clean == feature.track_id , \"inner\")"
   ]
  },
  {
   "cell_type": "code",
   "execution_count": 26,
   "metadata": {},
   "outputs": [
    {
     "data": {
      "text/plain": [
       "DataFrame[session_id: string, session_position: string, session_length: string, track_id_clean: string, skip_1: string, skip_2: string, skip_3: string, not_skipped: string, context_switch: string, no_pause_before_play: string, short_pause_before_play: string, long_pause_before_play: string, hist_user_behavior_n_seekfwd: string, hist_user_behavior_n_seekback: string, hist_user_behavior_is_shuffle: string, hour_of_day: string, date: string, premium: string, context_type: string, hist_user_behavior_reason_start: string, hist_user_behavior_reason_end: string, track_id: string, duration: string, release_year: string, us_popularity_estimate: string, acousticness: string, beat_strength: string, bounciness: string, danceability: string, dyn_range_mean: string, energy: string, flatness: string, instrumentalness: string, key: string, liveness: string, loudness: string, mechanism: string, mode: string, organism: string, speechiness: string, tempo: string, time_signature: string, valence: string, acoustic_vector_0: string, acoustic_vector_1: string, acoustic_vector_2: string, acoustic_vector_3: string, acoustic_vector_4: string, acoustic_vector_5: string, acoustic_vector_6: string, acoustic_vector_7: string]"
      ]
     },
     "execution_count": 26,
     "metadata": {},
     "output_type": "execute_result"
    }
   ],
   "source": [
    "df_all.cache()"
   ]
  },
  {
   "cell_type": "code",
   "execution_count": 28,
   "metadata": {},
   "outputs": [],
   "source": [
    "spotify = spotify.toPandas()"
   ]
  },
  {
   "cell_type": "code",
   "execution_count": null,
   "metadata": {},
   "outputs": [],
   "source": [
    "t_2025e40b-aee8-45f4-80af-08c8a9752f26"
   ]
  },
  {
   "cell_type": "code",
   "execution_count": 40,
   "metadata": {},
   "outputs": [],
   "source": [
    "newdf = feature.filter(feature['track_id']=='t_8233cb08-feeb-4c53-86fb-3d8ebb4c9aaa')"
   ]
  },
  {
   "cell_type": "code",
   "execution_count": 41,
   "metadata": {},
   "outputs": [
    {
     "name": "stdout",
     "output_type": "stream",
     "text": [
      "+--------------------+------------------+------------+----------------------+-------------------+-------------------+-------------------+-------------------+------------------+-------------------+------------------+--------------------+---+------------------+-------------------+-------------------+-----+-------------------+------------------+------------------+--------------+------------------+--------------------+-------------------+-------------------+--------------------+--------------------+-------------------+------------------+--------------------+\n",
      "|            track_id|          duration|release_year|us_popularity_estimate|       acousticness|      beat_strength|         bounciness|       danceability|    dyn_range_mean|             energy|          flatness|    instrumentalness|key|          liveness|           loudness|          mechanism| mode|           organism|       speechiness|             tempo|time_signature|           valence|   acoustic_vector_0|  acoustic_vector_1|  acoustic_vector_2|   acoustic_vector_3|   acoustic_vector_4|  acoustic_vector_5| acoustic_vector_6|   acoustic_vector_7|\n",
      "+--------------------+------------------+------------+----------------------+-------------------+-------------------+-------------------+-------------------+------------------+-------------------+------------------+--------------------+---+------------------+-------------------+-------------------+-----+-------------------+------------------+------------------+--------------+------------------+--------------------+-------------------+-------------------+--------------------+--------------------+-------------------+------------------+--------------------+\n",
      "|t_8233cb08-feeb-4...|443.98666381835938|        2011|    99.969704698169863|0.37525370717048645|0.46448829770088196|0.44214197993278503|0.43833830952644348|6.8716492652893066|0.59316635131835938|1.0294935703277588|1.795279786165338...|  2|0.3879375159740448|-7.7859997749328613|0.56365883350372314|major|0.40694528818130493|0.0489889532327652|127.99400329589844|             4|0.0790744423866272|-0.55389940738677979|0.35646563768386841|0.33659297227859497|-0.10559109598398209|-0.29217132925987244|0.15961848199367523|-0.302154004573822|0.020263424143195152|\n",
      "+--------------------+------------------+------------+----------------------+-------------------+-------------------+-------------------+-------------------+------------------+-------------------+------------------+--------------------+---+------------------+-------------------+-------------------+-----+-------------------+------------------+------------------+--------------+------------------+--------------------+-------------------+-------------------+--------------------+--------------------+-------------------+------------------+--------------------+\n",
      "\n"
     ]
    }
   ],
   "source": [
    "newdf.show()"
   ]
  },
  {
   "cell_type": "code",
   "execution_count": 42,
   "metadata": {},
   "outputs": [],
   "source": [
    "newdf = feature.filter(feature['track_id']=='t_0fa66b51-205e-4fd2-9dfa-a775292e4a98')"
   ]
  },
  {
   "cell_type": "code",
   "execution_count": 43,
   "metadata": {},
   "outputs": [
    {
     "name": "stdout",
     "output_type": "stream",
     "text": [
      "+--------------------+------------------+------------+----------------------+-------------------+-------------------+-------------------+----------------+----------------+-------------------+------------------+--------------------+---+-------------------+------------------+------------------+-----+-------------------+--------------------+------------------+--------------+------------------+-----------------+-------------------+-------------------+--------------------+--------------------+-------------------+--------------------+-------------------+\n",
      "|            track_id|          duration|release_year|us_popularity_estimate|       acousticness|      beat_strength|         bounciness|    danceability|  dyn_range_mean|             energy|          flatness|    instrumentalness|key|           liveness|          loudness|         mechanism| mode|           organism|         speechiness|             tempo|time_signature|           valence|acoustic_vector_0|  acoustic_vector_1|  acoustic_vector_2|   acoustic_vector_3|   acoustic_vector_4|  acoustic_vector_5|   acoustic_vector_6|  acoustic_vector_7|\n",
      "+--------------------+------------------+------------+----------------------+-------------------+-------------------+-------------------+----------------+----------------+-------------------+------------------+--------------------+---+-------------------+------------------+------------------+-----+-------------------+--------------------+------------------+--------------+------------------+-----------------+-------------------+-------------------+--------------------+--------------------+-------------------+--------------------+-------------------+\n",
      "|t_0fa66b51-205e-4...|321.02667236328125|        2016|    99.991055841289167|0.41778838634490967|0.41729101538658142|0.44921460747718811|0.46873939037323|7.41152286529541|0.41738700866699219|1.0404335260391235|0.000188553836778...|  8|0.10200534015893936|-10.61400032043457|0.4038461446762085|minor|0.51475554704666138|0.070424214005470276|120.01200103759766|             4|0.1750701516866684|-0.65131014585495|0.32755357027053833|0.30716729164123535|-0.04784068465232...|-0.36665418744087219|0.10858891159296036|-0.34546065330505371|0.21925494074821472|\n",
      "+--------------------+------------------+------------+----------------------+-------------------+-------------------+-------------------+----------------+----------------+-------------------+------------------+--------------------+---+-------------------+------------------+------------------+-----+-------------------+--------------------+------------------+--------------+------------------+-----------------+-------------------+-------------------+--------------------+--------------------+-------------------+--------------------+-------------------+\n",
      "\n"
     ]
    }
   ],
   "source": [
    "newdf.show()"
   ]
  },
  {
   "cell_type": "code",
   "execution_count": 44,
   "metadata": {},
   "outputs": [],
   "source": [
    "newdf = feature.filter(feature['track_id']=='t_7c2e3cde-563e-446f-bdd5-cd696174643f')"
   ]
  },
  {
   "cell_type": "code",
   "execution_count": 45,
   "metadata": {},
   "outputs": [
    {
     "name": "stdout",
     "output_type": "stream",
     "text": [
      "+--------------------+------------------+------------+----------------------+-------------------+-------------------+-------------------+-------------------+------------------+-------------------+------------------+--------------------+---+--------------------+-----------------+-------------------+-----+-----------------+--------------------+------------------+--------------+-------------------+--------------------+-------------------+-------------------+--------------------+-------------------+-------------------+-------------------+-------------------+\n",
      "|            track_id|          duration|release_year|us_popularity_estimate|       acousticness|      beat_strength|         bounciness|       danceability|    dyn_range_mean|             energy|          flatness|    instrumentalness|key|            liveness|         loudness|          mechanism| mode|         organism|         speechiness|             tempo|time_signature|            valence|   acoustic_vector_0|  acoustic_vector_1|  acoustic_vector_2|   acoustic_vector_3|  acoustic_vector_4|  acoustic_vector_5|  acoustic_vector_6|  acoustic_vector_7|\n",
      "+--------------------+------------------+------------+----------------------+-------------------+-------------------+-------------------+-------------------+------------------+-------------------+------------------+--------------------+---+--------------------+-----------------+-------------------+-----+-----------------+--------------------+------------------+--------------+-------------------+--------------------+-------------------+-------------------+--------------------+-------------------+-------------------+-------------------+-------------------+\n",
      "|t_7c2e3cde-563e-4...|286.67999267578125|        2011|    99.983602643758857|0.34589576721191406|0.45212075114250183|0.47014427185058594|0.64129805564880371|7.4891972541809082|0.53937804698944092|1.0214669704437256|7.036817805783357...|  5|0.083681225776672363|-6.35099983215332|0.79179811477661133|minor|0.285474956035614|0.046317089349031448|148.00399780273438|             4|0.43629342317581177|-0.37361276149749756|0.26975381374359131|0.28676292300224304|-0.20214058458805084|-0.3296254575252533|0.17195077240467072|-0.2443852573633194|0.11292731016874313|\n",
      "+--------------------+------------------+------------+----------------------+-------------------+-------------------+-------------------+-------------------+------------------+-------------------+------------------+--------------------+---+--------------------+-----------------+-------------------+-----+-----------------+--------------------+------------------+--------------+-------------------+--------------------+-------------------+-------------------+--------------------+-------------------+-------------------+-------------------+-------------------+\n",
      "\n"
     ]
    }
   ],
   "source": [
    "newdf.show()"
   ]
  },
  {
   "cell_type": "code",
   "execution_count": 46,
   "metadata": {},
   "outputs": [],
   "source": [
    "newdf = feature.filter(feature['track_id']=='t_8233cb08-feeb-4c53-86fb-3d8ebb4c9aaa')"
   ]
  },
  {
   "cell_type": "code",
   "execution_count": 47,
   "metadata": {},
   "outputs": [
    {
     "name": "stdout",
     "output_type": "stream",
     "text": [
      "+--------------------+------------------+------------+----------------------+-------------------+-------------------+-------------------+-------------------+------------------+-------------------+------------------+--------------------+---+------------------+-------------------+-------------------+-----+-------------------+------------------+------------------+--------------+------------------+--------------------+-------------------+-------------------+--------------------+--------------------+-------------------+------------------+--------------------+\n",
      "|            track_id|          duration|release_year|us_popularity_estimate|       acousticness|      beat_strength|         bounciness|       danceability|    dyn_range_mean|             energy|          flatness|    instrumentalness|key|          liveness|           loudness|          mechanism| mode|           organism|       speechiness|             tempo|time_signature|           valence|   acoustic_vector_0|  acoustic_vector_1|  acoustic_vector_2|   acoustic_vector_3|   acoustic_vector_4|  acoustic_vector_5| acoustic_vector_6|   acoustic_vector_7|\n",
      "+--------------------+------------------+------------+----------------------+-------------------+-------------------+-------------------+-------------------+------------------+-------------------+------------------+--------------------+---+------------------+-------------------+-------------------+-----+-------------------+------------------+------------------+--------------+------------------+--------------------+-------------------+-------------------+--------------------+--------------------+-------------------+------------------+--------------------+\n",
      "|t_8233cb08-feeb-4...|443.98666381835938|        2011|    99.969704698169863|0.37525370717048645|0.46448829770088196|0.44214197993278503|0.43833830952644348|6.8716492652893066|0.59316635131835938|1.0294935703277588|1.795279786165338...|  2|0.3879375159740448|-7.7859997749328613|0.56365883350372314|major|0.40694528818130493|0.0489889532327652|127.99400329589844|             4|0.0790744423866272|-0.55389940738677979|0.35646563768386841|0.33659297227859497|-0.10559109598398209|-0.29217132925987244|0.15961848199367523|-0.302154004573822|0.020263424143195152|\n",
      "+--------------------+------------------+------------+----------------------+-------------------+-------------------+-------------------+-------------------+------------------+-------------------+------------------+--------------------+---+------------------+-------------------+-------------------+-----+-------------------+------------------+------------------+--------------+------------------+--------------------+-------------------+-------------------+--------------------+--------------------+-------------------+------------------+--------------------+\n",
      "\n"
     ]
    }
   ],
   "source": [
    "newdf.show()"
   ]
  },
  {
   "cell_type": "code",
   "execution_count": 37,
   "metadata": {},
   "outputs": [],
   "source": [
    "newdf = feature.filter(feature['track_id']=='t_d975219d-6de3-49ec-bee4-85efe748013a')"
   ]
  },
  {
   "cell_type": "code",
   "execution_count": 38,
   "metadata": {},
   "outputs": [
    {
     "name": "stdout",
     "output_type": "stream",
     "text": [
      "+--------------------+-----------------+------------+----------------------+--------------------+-------------------+-------------------+-------------------+------------------+-------------------+-------------------+--------------------+---+-------------------+-------------------+-------------------+-----+-------------------+--------------------+------------------+--------------+-------------------+--------------------+--------------------+-------------------+-------------------+-------------------+--------------------+--------------------+--------------------+\n",
      "|            track_id|         duration|release_year|us_popularity_estimate|        acousticness|      beat_strength|         bounciness|       danceability|    dyn_range_mean|             energy|           flatness|    instrumentalness|key|           liveness|           loudness|          mechanism| mode|           organism|         speechiness|             tempo|time_signature|            valence|   acoustic_vector_0|   acoustic_vector_1|  acoustic_vector_2|  acoustic_vector_3|  acoustic_vector_4|   acoustic_vector_5|   acoustic_vector_6|   acoustic_vector_7|\n",
      "+--------------------+-----------------+------------+----------------------+--------------------+-------------------+-------------------+-------------------+------------------+-------------------+-------------------+--------------------+---+-------------------+-------------------+-------------------+-----+-------------------+--------------------+------------------+--------------+-------------------+--------------------+--------------------+-------------------+-------------------+-------------------+--------------------+--------------------+--------------------+\n",
      "|t_d975219d-6de3-4...|240.2933349609375|        1977|     99.97915227743033|0.065989091992378235|0.69447940587997437|0.70173227787017822|0.80570632219314575|9.8307790756225586|0.57321184873580933|0.97204762697219849|0.000221361682633...|  0|0.15156377851963043|-11.017000198364258|0.82278478145599365|major|0.13371571898460388|0.031735703349113464|116.96499633789062|             4|0.95131134986877441|-0.10755793005228043|-0.37142503261566162|0.42070576548576355|0.24341608583927155|0.13739366829395294|0.037247419357299805|-0.31859281659126282|-0.18286293745040894|\n",
      "+--------------------+-----------------+------------+----------------------+--------------------+-------------------+-------------------+-------------------+------------------+-------------------+-------------------+--------------------+---+-------------------+-------------------+-------------------+-----+-------------------+--------------------+------------------+--------------+-------------------+--------------------+--------------------+-------------------+-------------------+-------------------+--------------------+--------------------+--------------------+\n",
      "\n"
     ]
    }
   ],
   "source": [
    "newdf.show()"
   ]
  },
  {
   "cell_type": "code",
   "execution_count": 40,
   "metadata": {},
   "outputs": [],
   "source": [
    "newdf = feature.filter(feature['track_id']=='t_166e7788-d0ae-4e85-b748-b3e8af77a84b')"
   ]
  },
  {
   "cell_type": "code",
   "execution_count": 41,
   "metadata": {},
   "outputs": [
    {
     "name": "stdout",
     "output_type": "stream",
     "text": [
      "+--------------------+------------------+------------+----------------------+--------------------+-------------------+-------------------+-------------------+------------------+-------------------+-------------------+--------------------+---+-------------------+-------------------+------------------+-----+-----------------+--------------------+------------------+--------------+-------------------+-------------------+-------------------+--------------------+--------------------+-------------------+-------------------+-------------------+--------------------+\n",
      "|            track_id|          duration|release_year|us_popularity_estimate|        acousticness|      beat_strength|         bounciness|       danceability|    dyn_range_mean|             energy|           flatness|    instrumentalness|key|           liveness|           loudness|         mechanism| mode|         organism|         speechiness|             tempo|time_signature|            valence|  acoustic_vector_0|  acoustic_vector_1|   acoustic_vector_2|   acoustic_vector_3|  acoustic_vector_4|  acoustic_vector_5|  acoustic_vector_6|   acoustic_vector_7|\n",
      "+--------------------+------------------+------------+----------------------+--------------------+-------------------+-------------------+-------------------+------------------+-------------------+-------------------+--------------------+---+-------------------+-------------------+------------------+-----+-----------------+--------------------+------------------+--------------+-------------------+-------------------+-------------------+--------------------+--------------------+-------------------+-------------------+-------------------+--------------------+\n",
      "|t_166e7788-d0ae-4...|310.95999145507812|        1997|    99.894157839905731|0.001488966634497...|0.44190680980682373|0.37700068950653076|0.43992215394973755|5.8352489471435547|0.78427773714065552|0.94242274761199951|0.000265550130279...|  7|0.99809634685516357|-7.6880002021789551|0.2200557142496109|major|0.551504909992218|0.062443576753139496|79.014999389648438|             4|0.42427763342857361|0.14813573658466339|0.14838667213916779|-0.03422743454575...|-0.44980394840240479|0.50329649448394775|0.19134488701820374|-0.3650757372379303|-0.31174048781394958|\n",
      "+--------------------+------------------+------------+----------------------+--------------------+-------------------+-------------------+-------------------+------------------+-------------------+-------------------+--------------------+---+-------------------+-------------------+------------------+-----+-----------------+--------------------+------------------+--------------+-------------------+-------------------+-------------------+--------------------+--------------------+-------------------+-------------------+-------------------+--------------------+\n",
      "\n"
     ]
    }
   ],
   "source": [
    "newdf.show()"
   ]
  }
 ],
 "metadata": {
  "kernelspec": {
   "display_name": "Python 3",
   "language": "python",
   "name": "python3"
  },
  "language_info": {
   "codemirror_mode": {
    "name": "ipython",
    "version": 3
   },
   "file_extension": ".py",
   "mimetype": "text/x-python",
   "name": "python",
   "nbconvert_exporter": "python",
   "pygments_lexer": "ipython3",
   "version": "3.7.6"
  }
 },
 "nbformat": 4,
 "nbformat_minor": 4
}
