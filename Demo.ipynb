{
 "cells": [
  {
   "cell_type": "code",
   "execution_count": 1,
   "metadata": {},
   "outputs": [],
   "source": [
    "import findspark\n",
    "findspark.init()\n",
    "from pyspark.sql import SparkSession\n",
    "from pyspark import SparkContext"
   ]
  },
  {
   "cell_type": "code",
   "execution_count": 3,
   "metadata": {},
   "outputs": [],
   "source": [
    "spark = SparkSession.builder.appName('SparkSession').getOrCreate()"
   ]
  },
  {
   "cell_type": "code",
   "execution_count": 20,
   "metadata": {},
   "outputs": [],
   "source": [
    "data = spark.read.csv('s3://502-mountain-dew-spotify/training_set/',header=True)"
   ]
  },
  {
   "cell_type": "code",
   "execution_count": 21,
   "metadata": {},
   "outputs": [
    {
     "data": {
      "text/plain": [
       "<bound method DataFrame.cache of DataFrame[session_id: string, session_position: string, session_length: string, track_id_clean: string, skip_1: string, skip_2: string, skip_3: string, not_skipped: string, context_switch: string, no_pause_before_play: string, short_pause_before_play: string, long_pause_before_play: string, hist_user_behavior_n_seekfwd: string, hist_user_behavior_n_seekback: string, hist_user_behavior_is_shuffle: string, hour_of_day: string, date: string, premium: string, context_type: string, hist_user_behavior_reason_start: string, hist_user_behavior_reason_end: string]>"
      ]
     },
     "execution_count": 21,
     "metadata": {},
     "output_type": "execute_result"
    }
   ],
   "source": [
    "demo = data.limit(100)\n",
    "demo.cache"
   ]
  },
  {
   "cell_type": "code",
   "execution_count": 27,
   "metadata": {},
   "outputs": [
    {
     "name": "stdout",
     "output_type": "stream",
     "text": [
      "root\n",
      " |-- session_id: string (nullable = true)\n",
      " |-- session_position: string (nullable = true)\n",
      " |-- session_length: string (nullable = true)\n",
      " |-- track_id_clean: string (nullable = true)\n",
      " |-- skip_1: string (nullable = true)\n",
      " |-- skip_2: string (nullable = true)\n",
      " |-- skip_3: string (nullable = true)\n",
      " |-- not_skipped: string (nullable = true)\n",
      " |-- context_switch: string (nullable = true)\n",
      " |-- no_pause_before_play: string (nullable = true)\n",
      " |-- short_pause_before_play: string (nullable = true)\n",
      " |-- long_pause_before_play: string (nullable = true)\n",
      " |-- hist_user_behavior_n_seekfwd: string (nullable = true)\n",
      " |-- hist_user_behavior_n_seekback: string (nullable = true)\n",
      " |-- hist_user_behavior_is_shuffle: string (nullable = true)\n",
      " |-- hour_of_day: string (nullable = true)\n",
      " |-- date: string (nullable = true)\n",
      " |-- premium: string (nullable = true)\n",
      " |-- context_type: string (nullable = true)\n",
      " |-- hist_user_behavior_reason_start: string (nullable = true)\n",
      " |-- hist_user_behavior_reason_end: string (nullable = true)\n",
      "\n"
     ]
    }
   ],
   "source": [
    "demo.printSchema()"
   ]
  },
  {
   "cell_type": "code",
   "execution_count": null,
   "metadata": {},
   "outputs": [],
   "source": []
  },
  {
   "cell_type": "code",
   "execution_count": 28,
   "metadata": {},
   "outputs": [
    {
     "name": "stdout",
     "output_type": "stream",
     "text": [
      "root\n",
      " |-- session_id: string (nullable = true)\n",
      " |-- session_position: string (nullable = true)\n",
      " |-- session_length: string (nullable = true)\n",
      " |-- track_id_clean: string (nullable = true)\n",
      " |-- skip_1: string (nullable = true)\n",
      " |-- skip_2: string (nullable = true)\n",
      " |-- skip_3: string (nullable = true)\n",
      " |-- not_skipped: string (nullable = true)\n",
      " |-- context_switch: string (nullable = true)\n",
      " |-- no_pause_before_play: string (nullable = true)\n",
      " |-- short_pause_before_play: string (nullable = true)\n",
      " |-- long_pause_before_play: string (nullable = true)\n",
      " |-- hist_user_behavior_n_seekfwd: string (nullable = true)\n",
      " |-- hist_user_behavior_n_seekback: string (nullable = true)\n",
      " |-- hist_user_behavior_is_shuffle: string (nullable = true)\n",
      " |-- hour_of_day: string (nullable = true)\n",
      " |-- date: string (nullable = true)\n",
      " |-- premium: string (nullable = true)\n",
      " |-- context_type: string (nullable = true)\n",
      " |-- hist_user_behavior_reason_start: string (nullable = true)\n",
      " |-- hist_user_behavior_reason_end: string (nullable = true)\n",
      "\n"
     ]
    }
   ],
   "source": [
    "data.printSchema()"
   ]
  },
  {
   "cell_type": "code",
   "execution_count": 24,
   "metadata": {},
   "outputs": [
    {
     "name": "stdout",
     "output_type": "stream",
     "text": [
      "+--------------------+----------------+--------------+--------------------+------+------+------+-----------+--------------+--------------------+-----------------------+----------------------+----------------------------+-----------------------------+-----------------------------+-----------+----------+-------+------------------+-------------------------------+-----------------------------+\n",
      "|          session_id|session_position|session_length|      track_id_clean|skip_1|skip_2|skip_3|not_skipped|context_switch|no_pause_before_play|short_pause_before_play|long_pause_before_play|hist_user_behavior_n_seekfwd|hist_user_behavior_n_seekback|hist_user_behavior_is_shuffle|hour_of_day|      date|premium|      context_type|hist_user_behavior_reason_start|hist_user_behavior_reason_end|\n",
      "+--------------------+----------------+--------------+--------------------+------+------+------+-----------+--------------+--------------------+-----------------------+----------------------+----------------------------+-----------------------------+-----------------------------+-----------+----------+-------+------------------+-------------------------------+-----------------------------+\n",
      "|0_00006f66-33e5-4...|               1|            20|t_0479f24c-27d2-4...| false| false| false|       true|             0|                   0|                      0|                     0|                           0|                            0|                         true|         16|2018-07-15|   true|editorial_playlist|                      trackdone|                    trackdone|\n",
      "|0_00006f66-33e5-4...|               2|            20|t_9099cd7b-c238-4...| false| false| false|       true|             0|                   1|                      0|                     0|                           0|                            0|                         true|         16|2018-07-15|   true|editorial_playlist|                      trackdone|                    trackdone|\n",
      "|0_00006f66-33e5-4...|               3|            20|t_fc5df5ba-5396-4...| false| false| false|       true|             0|                   1|                      0|                     0|                           0|                            0|                         true|         16|2018-07-15|   true|editorial_playlist|                      trackdone|                    trackdone|\n",
      "|0_00006f66-33e5-4...|               4|            20|t_23cff8d6-d874-4...| false| false| false|       true|             0|                   1|                      0|                     0|                           0|                            0|                         true|         16|2018-07-15|   true|editorial_playlist|                      trackdone|                    trackdone|\n",
      "|0_00006f66-33e5-4...|               5|            20|t_64f3743c-f624-4...| false| false| false|       true|             0|                   1|                      0|                     0|                           0|                            0|                         true|         16|2018-07-15|   true|editorial_playlist|                      trackdone|                    trackdone|\n",
      "|0_00006f66-33e5-4...|               6|            20|t_c815228b-3212-4...| false| false|  true|      false|             0|                   1|                      0|                     0|                           0|                            0|                         true|         16|2018-07-15|   true|editorial_playlist|                      trackdone|                       fwdbtn|\n",
      "|0_00006f66-33e5-4...|               7|            20|t_e23c19f5-4c32-4...|  true|  true|  true|      false|             0|                   1|                      0|                     0|                           0|                            0|                         true|         16|2018-07-15|   true|editorial_playlist|                         fwdbtn|                       fwdbtn|\n",
      "|0_00006f66-33e5-4...|               8|            20|t_0be6eced-f56f-4...|  true|  true|  true|      false|             0|                   1|                      0|                     0|                           0|                            0|                         true|         16|2018-07-15|   true|editorial_playlist|                         fwdbtn|                       fwdbtn|\n",
      "|0_00006f66-33e5-4...|               9|            20|t_f3ecbd3b-9e8e-4...| false|  true|  true|      false|             0|                   1|                      0|                     0|                           0|                            0|                         true|         16|2018-07-15|   true|editorial_playlist|                         fwdbtn|                       fwdbtn|\n",
      "|0_00006f66-33e5-4...|              10|            20|t_2af4dfa0-7df3-4...|  true|  true|  true|      false|             0|                   1|                      0|                     0|                           0|                            0|                         true|         16|2018-07-15|   true|editorial_playlist|                         fwdbtn|                       fwdbtn|\n",
      "|0_00006f66-33e5-4...|              11|            20|t_79570b2a-639a-4...|  true|  true|  true|      false|             0|                   1|                      0|                     0|                           0|                            0|                         true|         16|2018-07-15|   true|editorial_playlist|                         fwdbtn|                       fwdbtn|\n",
      "|0_00006f66-33e5-4...|              12|            20|t_69016f19-84aa-4...|  true|  true|  true|      false|             0|                   1|                      0|                     0|                           0|                            0|                         true|         16|2018-07-15|   true|editorial_playlist|                         fwdbtn|                       fwdbtn|\n",
      "|0_00006f66-33e5-4...|              13|            20|t_59dc3fcd-7aec-4...|  true|  true|  true|      false|             0|                   1|                      0|                     0|                           0|                            0|                         true|         16|2018-07-15|   true|editorial_playlist|                         fwdbtn|                       fwdbtn|\n",
      "|0_00006f66-33e5-4...|              14|            20|t_a157ba98-7eae-4...| false| false| false|       true|             0|                   1|                      0|                     0|                           0|                            0|                         true|         16|2018-07-15|   true|editorial_playlist|                         fwdbtn|                    trackdone|\n",
      "|0_00006f66-33e5-4...|              15|            20|t_87d95b75-af5c-4...| false|  true|  true|      false|             0|                   1|                      0|                     0|                           0|                            0|                         true|         16|2018-07-15|   true|editorial_playlist|                      trackdone|                       fwdbtn|\n",
      "|0_00006f66-33e5-4...|              16|            20|t_db945033-3dc5-4...| false|  true|  true|      false|             0|                   0|                      1|                     1|                           0|                            0|                         true|         16|2018-07-15|   true|editorial_playlist|                         fwdbtn|                       fwdbtn|\n",
      "|0_00006f66-33e5-4...|              17|            20|t_bff5b6c6-6968-4...| false|  true|  true|      false|             0|                   1|                      0|                     0|                           0|                            0|                         true|         16|2018-07-15|   true|editorial_playlist|                         fwdbtn|                       fwdbtn|\n",
      "|0_00006f66-33e5-4...|              18|            20|t_bf496d77-9eb2-4...| false|  true|  true|      false|             0|                   1|                      0|                     0|                           0|                            0|                         true|         16|2018-07-15|   true|editorial_playlist|                         fwdbtn|                       fwdbtn|\n",
      "|0_00006f66-33e5-4...|              19|            20|t_1051bc37-1a73-4...|  true|  true|  true|      false|             0|                   1|                      0|                     0|                           0|                            0|                         true|         16|2018-07-15|   true|editorial_playlist|                         fwdbtn|                       fwdbtn|\n",
      "|0_00006f66-33e5-4...|              20|            20|t_358c9cce-7a1e-4...|  true|  true|  true|      false|             0|                   1|                      0|                     0|                           0|                            0|                         true|         16|2018-07-15|   true|editorial_playlist|                         fwdbtn|                       fwdbtn|\n",
      "+--------------------+----------------+--------------+--------------------+------+------+------+-----------+--------------+--------------------+-----------------------+----------------------+----------------------------+-----------------------------+-----------------------------+-----------+----------+-------+------------------+-------------------------------+-----------------------------+\n",
      "only showing top 20 rows\n",
      "\n"
     ]
    }
   ],
   "source": [
    "demo.show()"
   ]
  },
  {
   "cell_type": "code",
   "execution_count": 25,
   "metadata": {},
   "outputs": [
    {
     "data": {
      "text/plain": [
       "2072002577"
      ]
     },
     "execution_count": 25,
     "metadata": {},
     "output_type": "execute_result"
    }
   ],
   "source": [
    "data.count()"
   ]
  },
  {
   "cell_type": "code",
   "execution_count": null,
   "metadata": {},
   "outputs": [],
   "source": []
  }
 ],
 "metadata": {
  "kernelspec": {
   "display_name": "Python 3",
   "language": "python",
   "name": "python3"
  },
  "language_info": {
   "codemirror_mode": {
    "name": "ipython",
    "version": 3
   },
   "file_extension": ".py",
   "mimetype": "text/x-python",
   "name": "python",
   "nbconvert_exporter": "python",
   "pygments_lexer": "ipython3",
   "version": "3.6.10"
  }
 },
 "nbformat": 4,
 "nbformat_minor": 4
}
